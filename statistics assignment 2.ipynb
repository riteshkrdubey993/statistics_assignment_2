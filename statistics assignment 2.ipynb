{
 "cells": [
  {
   "cell_type": "markdown",
   "id": "fb757bb8-507d-4360-b855-9a521a811b29",
   "metadata": {},
   "source": [
    "Q1. What are the three measures of central tendency?"
   ]
  },
  {
   "cell_type": "markdown",
   "id": "fc80682b-0aaf-4bca-9da8-7d51de8902e9",
   "metadata": {},
   "source": [
    "The three measures of central tendency are:\n",
    "1. Mean\n",
    "2. Median\n",
    "3. Mode"
   ]
  },
  {
   "cell_type": "markdown",
   "id": "b6d72211-0f14-4ceb-9a57-4950ea119de7",
   "metadata": {},
   "source": [
    "\n",
    "Q2. What is the difference between the mean, median, and mode? How are they used to measure the\n",
    "central tendency of a dataset?"
   ]
  },
  {
   "cell_type": "markdown",
   "id": "4276d86d-3f95-42c4-a35e-ce3db102e42f",
   "metadata": {},
   "source": [
    "The mean, median, and mode are different measures of central tendency that provide information about the typical value or center of a dataset. Here's how they differ and how they are used:\n",
    "\n",
    "1. Mean: The mean is calculated by summing up all the values in a dataset and then dividing the sum by the total number of values. It takes into account the magnitude of each value in the dataset. The mean is widely used because it considers all the values and provides a representative average. However, it is sensitive to extreme values, as even a single outlier can significantly impact the mean. The mean is commonly used in many statistical analyses, such as calculating the average score in a test or determining the average income in a population.\n",
    "\n",
    "2. Median: The median is the middle value in a dataset when it is arranged in ascending or descending order. It is less affected by extreme values compared to the mean, making it a useful measure when dealing with skewed distributions or datasets with outliers. The median divides the dataset into two equal halves, with 50% of the values falling below it and 50% above it. This measure is commonly used when the distribution of data is not symmetrical, such as income distribution or housing prices.\n",
    "\n",
    "3. Mode: The mode is the value that appears most frequently in a dataset. It represents the peak or most common value in the distribution. The mode is particularly useful for categorical or discrete data, but it can also be applied to numerical data. A dataset can have one mode (unimodal), two modes (bimodal), or more (multimodal) if multiple values have the same highest frequency. The mode is often used to describe the most prevalent category in a dataset or to identify the most common response in a survey.\n"
   ]
  },
  {
   "cell_type": "markdown",
   "id": "5e628ea5-326e-46bb-ab1b-6bd0e0b1bfdb",
   "metadata": {},
   "source": [
    "Q3. Measure the three measures of central tendency for the given height data:\n",
    "[178,177,176,177,178.2,178,175,179,180,175,178.9,176.2,177,172.5,178,176.5]"
   ]
  },
  {
   "cell_type": "code",
   "execution_count": 2,
   "id": "9bcea5fe-e805-4058-a194-5822faded902",
   "metadata": {},
   "outputs": [
    {
     "name": "stdout",
     "output_type": "stream",
     "text": [
      "Mean: 177.01875\n",
      "Mean: 177.0\n",
      "Mean: 0    177.0\n",
      "1    178.0\n",
      "dtype: float64\n"
     ]
    }
   ],
   "source": [
    "import pandas as pd\n",
    "data1 = [178,177,176,177,178.2,178,175,179,180,175,178.9,176.2,177,172.5,178,176.5]\n",
    "df = pd.Series(data1)\n",
    "# Mean\n",
    "mean = df.mean()\n",
    "print(\"Mean:\", mean)\n",
    "# Median\n",
    "median = df.median()\n",
    "print(\"Mean:\", median)\n",
    "# Mode]\n",
    "mode = df.mode()\n",
    "print(\"Mean:\", mode)"
   ]
  },
  {
   "cell_type": "markdown",
   "id": "0394c71c-4c65-4966-baf9-cc2f7e70adae",
   "metadata": {},
   "source": [
    "Q4. Find the standard deviation for the given data:"
   ]
  },
  {
   "cell_type": "code",
   "execution_count": 3,
   "id": "b87c709c-fdf8-441d-aa0c-303f50cb1660",
   "metadata": {},
   "outputs": [
    {
     "name": "stdout",
     "output_type": "stream",
     "text": [
      "Standard Deviation 1.847238930584419\n"
     ]
    }
   ],
   "source": [
    "data2 = [178,177,176,177,178.2,178,175,179,180,175,178.9,176.2,177,172.5,178,176.5]\n",
    "df = pd.Series(data2)\n",
    "st_dev = df.std()\n",
    "print(\"Standard Deviation\", st_dev)"
   ]
  },
  {
   "cell_type": "markdown",
   "id": "b389f219-6aa4-4f3f-b216-4f42beb6e433",
   "metadata": {},
   "source": [
    "Q5. How are measures of dispersion such as range, variance, and standard deviation used to describe\n",
    "the spread of a dataset? Provide an example."
   ]
  },
  {
   "cell_type": "markdown",
   "id": "59e495e6-432f-4cd4-8895-bb2d2972963d",
   "metadata": {},
   "source": [
    "Measures of dispersion, such as range, variance, and standard deviation, are used to describe the spread or variability of a dataset. They provide information about how the values in a dataset are distributed around the central tendency. Here's how these measures are used and an example to illustrate their application:\n",
    "\n",
    "1. Range: The range is the simplest measure of dispersion and represents the difference between the highest and lowest values in a dataset. It gives a rough estimate of the spread but doesn't provide information about the distribution of values within that range. For example, if you have a dataset of test scores ranging from 60 to 90, the range would be 90 - 60 = 30, indicating a spread of 30 points between the lowest and highest scores.\n",
    "\n",
    "2. Variance: The variance measures the average squared deviation of each value from the mean of the dataset. It quantifies the dispersion by considering the differences between each data point and the mean, taking into account both the direction and magnitude of those differences. A higher variance indicates a greater spread of values. For example, if you have a dataset of ages with a variance of 25, it means that the values deviate, on average, 25 units squared from the mean age.\n",
    "\n",
    "3. Standard Deviation: The standard deviation is the square root of the variance and provides a measure of dispersion in the original units of the dataset. It is widely used because it is easy to interpret and has desirable mathematical properties. The standard deviation is a more common measure of dispersion than the variance as it shares the same units as the original data. It gives a sense of the average distance between each data point and the mean. For example, if you have a dataset of exam scores with a standard deviation of 10, it indicates that, on average, the scores deviate 10 units from the mean score."
   ]
  },
  {
   "cell_type": "markdown",
   "id": "2a37f433-5702-4c1c-80cd-82c36e9a7b2c",
   "metadata": {},
   "source": [
    "Q6. What is a Venn diagram?"
   ]
  },
  {
   "cell_type": "markdown",
   "id": "add10e77-7fcd-4b35-81dc-b81e53e6a089",
   "metadata": {},
   "source": [
    "A Venn diagram is a graphical representation that uses circles (or other shapes) to depict the relationships between different sets of items or concepts.\n",
    "\n",
    "In a Venn diagram, each circle represents a set, and the overlapping regions between the circles represent the relationships or common elements between those sets. The diagram visually shows the intersection, union, and complement of sets."
   ]
  },
  {
   "cell_type": "raw",
   "id": "334ec26e-d90a-45f4-81cf-453cceafb9cf",
   "metadata": {},
   "source": [
    "Q7. For the two given sets A = (2,3,4,5,6,7) & B = (0,2,6,8,10). Find:\n",
    "(i) A intersection B\n",
    "(ii) A ⋃ B\n"
   ]
  },
  {
   "cell_type": "code",
   "execution_count": 7,
   "id": "de5be31b-7cbb-4db6-b610-06ca27f69ee8",
   "metadata": {},
   "outputs": [
    {
     "name": "stdout",
     "output_type": "stream",
     "text": [
      "A intersection B: {2, 6}\n",
      "A U B: {0, 2, 3, 4, 5, 6, 7, 8, 10}\n"
     ]
    }
   ],
   "source": [
    "A = {2,3,4,5,6,7}\n",
    "B = {0,2,6,8,10}\n",
    "A_int_B = A.intersection(B)\n",
    "print(\"A intersection B:\", A_int_B)\n",
    "A_uni_B = A.union(B)\n",
    "print(\"A U B:\", A_uni_B)"
   ]
  },
  {
   "cell_type": "markdown",
   "id": "cf2515d2-0a2a-4a4f-820d-b058a0bd8560",
   "metadata": {},
   "source": [
    "Q8. What do you understand about skewness in data?"
   ]
  },
  {
   "cell_type": "markdown",
   "id": "d05659b6-503a-451c-8556-a993b2e588aa",
   "metadata": {},
   "source": [
    "\n",
    "Skewness is a measure of the asymmetry or lack of symmetry in a dataset's distribution. It quantifies the extent to which the data deviates from a symmetric distribution, where the data points are evenly distributed around the mean.\n",
    "\n",
    "Skewness can be categorized into three types:\n",
    "\n",
    "1. Positive Skewness: Also known as right-skewness, it occurs when the tail of the distribution extends towards the higher values, indicating a longer or fatter tail on the right side. In a positively skewed distribution, the mean is typically greater than the median.\n",
    "\n",
    "2. Negative Skewness: Also known as left-skewness, it occurs when the tail of the distribution extends towards the lower values, indicating a longer or fatter tail on the left side. In a negatively skewed distribution, the mean is typically less than the median.\n",
    "\n",
    "3. Zero Skewness: A distribution is considered symmetric or normally distributed if it has zero skewness. In this case, the data is evenly distributed around the mean, and the mean and median are approximately equal"
   ]
  },
  {
   "cell_type": "markdown",
   "id": "df54c300-1e6c-418a-a4f9-9e46ea36fdb8",
   "metadata": {},
   "source": [
    "Q9. If a data is right skewed then what will be the position of median with respect to mean?\n"
   ]
  },
  {
   "cell_type": "markdown",
   "id": "ef18cfab-1c19-4c70-9169-bf54d3df3544",
   "metadata": {},
   "source": [
    "\n",
    "If a dataset is right-skewed, meaning it has a longer or fatter tail on the right side, the position of the median will typically be lower than the mean.\n",
    "\n",
    "In a right-skewed distribution, the mean is influenced by the presence of outliers or extremely high values in the right tail. These outliers tend to pull the mean in the direction of the tail, resulting in a higher mean value. On the other hand, the median is less affected by extreme values and represents the middle value of the dataset. Since the right-skewed distribution has a longer tail on the right side, the median will be closer to the lower values and will generally be lower than the mean.\n",
    "\n",
    "In summary, for a right-skewed distribution:\n",
    "\n",
    "Mean > Median"
   ]
  },
  {
   "cell_type": "markdown",
   "id": "08de0136-1c3a-4edf-b1c3-b7301397b724",
   "metadata": {},
   "source": [
    "Q10. Explain the difference between covariance and correlation. How are these measures used in\n",
    "statistical analysis?\n"
   ]
  },
  {
   "cell_type": "markdown",
   "id": "47d0144a-d808-411b-8706-bc85f21e4777",
   "metadata": {},
   "source": [
    "Covariance and correlation are both measures used to quantify the relationship between two variables in statistical analysis. While they are related, they have some key differences:\n",
    "\n",
    "Covariance: Covariance measures the direction and magnitude of the linear relationship between two variables. It indicates how much two variables vary together. A positive covariance indicates a direct relationship, where both variables tend to increase or decrease together. A negative covariance indicates an inverse relationship, where one variable tends to increase as the other decreases. However, covariance alone does not provide a standardized measure of the strength of the relationship.Covariance is used to understand the relationship between variables and assess their joint variability. It is often employed in portfolio analysis, finance, and risk management to study the relationship between different assets.\n",
    "\n",
    "Correlation: Correlation is a standardized measure that quantifies the strength and direction of the linear relationship between two variables. It ranges between -1 and +1. A correlation of +1 indicates a perfect positive linear relationship, while a correlation of -1 indicates a perfect negative linear relationship. A correlation of 0 indicates no linear relationship between the variables. Correlation accounts for the scale and units of the variables, making it easier to compare the strength of the relationship across different datasets.Correlation is widely used to measure the strength and direction of the linear relationship between two variables. It helps identify patterns and dependencies, assess the predictive power of variables, and determine the strength of association in regression models."
   ]
  },
  {
   "cell_type": "markdown",
   "id": "ace8d70d-21ae-45c4-9518-307021649127",
   "metadata": {},
   "source": [
    "Q11. What is the formula for calculating the sample mean? Provide an example calculation for a dataset."
   ]
  },
  {
   "cell_type": "markdown",
   "id": "8d89c2f7-4566-4773-a0e4-f095396c123c",
   "metadata": {},
   "source": [
    "The formula for calculating the sample mean is:\n",
    "\n",
    "Sample Mean = (Sum of all data points) / (Number of data points)\n",
    "\n",
    "Let's take an example dataset: [12, 15, 18, 20, 22]\n",
    "\n",
    "To calculate the sample mean:\n",
    "\n",
    "Step 1: Sum up all the data points:\n",
    "12 + 15 + 18 + 20 + 22 = 87\n",
    "\n",
    "Step 2: Determine the number of data points (sample size):\n",
    "In this case, the number of data points is 5.\n",
    "\n",
    "Step 3: Divide the sum by the number of data points:\n",
    "87 / 5 = 17.4\n",
    "\n",
    "Therefore, the sample mean for the given dataset [12, 15, 18, 20, 22] is 17.4."
   ]
  },
  {
   "cell_type": "markdown",
   "id": "117481c0-a951-4fbc-958e-4c4ad5c323b6",
   "metadata": {},
   "source": [
    "Q12. For a normal distribution data what is the relationship between its measure of central tendency?"
   ]
  },
  {
   "cell_type": "markdown",
   "id": "ab8af132-0b8b-43ad-8018-11f11e9b15cb",
   "metadata": {},
   "source": [
    "For a normal distribution, the three measures of central tendency — mean, median, and mode all three are equal and located at the center of the distribution. "
   ]
  },
  {
   "cell_type": "markdown",
   "id": "3878cae8-8a64-46b4-b7d6-ff2fa715d824",
   "metadata": {},
   "source": [
    "Q13. How is covariance different from correlation?"
   ]
  },
  {
   "cell_type": "markdown",
   "id": "7737dfdf-942e-4a2a-8dae-a737eca5e0e1",
   "metadata": {},
   "source": [
    "Covariance: Covariance measures the direction and magnitude of the linear relationship between two variables. It indicates how much two variables vary together. A positive covariance indicates a direct relationship, where both variables tend to increase or decrease together. A negative covariance indicates an inverse relationship, where one variable tends to increase as the other decreases. However, covariance alone does not provide a standardized measure of the strength of the relationship.\n",
    "\n",
    "Correlation: Correlation is a standardized measure that quantifies the strength and direction of the linear relationship between two variables. It ranges between -1 and +1. A correlation of +1 indicates a perfect positive linear relationship, while a correlation of -1 indicates a perfect negative linear relationship. A correlation of 0 indicates no linear relationship between the variables. Correlation accounts for the scale and units of the variables, making it easier to compare the strength of the relationship across different datasets\n",
    "\n"
   ]
  },
  {
   "cell_type": "markdown",
   "id": "af0b9931-4647-4006-85e9-98cd92b85e6b",
   "metadata": {},
   "source": [
    "Q14. How do outliers affect measures of central tendency and dispersion? Provide an example."
   ]
  },
  {
   "cell_type": "markdown",
   "id": "062439dc-577d-4dc0-b99a-fc617bbec3fa",
   "metadata": {},
   "source": [
    "Outliers can have a significant impact on measures of central tendency and dispersion in a dataset. Here's how outliers affect these measures and an example to illustrate their effects:\n",
    "\n",
    "Measures of Central Tendency:\n",
    "\n",
    "Mean: Outliers can pull the mean towards their extreme values. Since the mean considers all the data points, even a single outlier with a value significantly higher or lower than the rest of the dataset can greatly influence the mean, causing it to be skewed.\n",
    "\n",
    "Median: The median is less affected by outliers because it represents the middle value. Outliers have less impact on the median since it is resistant to extreme values.\n",
    "\n",
    "Mode: Outliers do not have a direct impact on the mode since it represents the most frequently occurring value.\n",
    "\n",
    "Measures of Dispersion:\n",
    "\n",
    "Range: Outliers have a direct impact on the range because they can significantly increase or decrease the range value.\n",
    "\n",
    "Variance and Standard Deviation: Outliers can have a substantial effect on both the variance and standard deviation. Since these measures quantify the spread or variability around the mean, outliers can increase the squared differences from the mean and, in turn, increase the variance and standard deviation.\n",
    "\n",
    "Example:\n",
    "Consider a dataset of exam scores: [75, 80, 85, 90, 95, 200].\n",
    "In this dataset, the score of 200 is an outlier. Let's see how outliers affect the measures of central tendency and dispersion:\n",
    "\n",
    "Mean: The mean is significantly influenced by the outlier: (75 + 80 + 85 + 90 + 95 + 200) / 6 = 107.5. The outlier pulls the mean higher than the typical values in the dataset.\n",
    "\n",
    "Median: The median is not affected by the outlier: it remains the middle value: 90. The median is resistant to the extreme value.\n",
    "\n",
    "Range: The range is greatly affected by the outlier: 200 - 75 = 125. The outlier expands the range.\n",
    "\n",
    "Variance and Standard Deviation: The outlier increases the squared differences from the mean, causing an increase in the variance and standard deviation.\n",
    "\n",
    "In this example, the outlier significantly influences the mean, range, variance, and standard deviation, while the median remains unaffected. It demonstrates how outliers can distort the measures of central tendency and dispersion. Therefore, it is important to be cautious when interpreting these measures in the presence of outliers."
   ]
  }
 ],
 "metadata": {
  "kernelspec": {
   "display_name": "Python 3 (ipykernel)",
   "language": "python",
   "name": "python3"
  },
  "language_info": {
   "codemirror_mode": {
    "name": "ipython",
    "version": 3
   },
   "file_extension": ".py",
   "mimetype": "text/x-python",
   "name": "python",
   "nbconvert_exporter": "python",
   "pygments_lexer": "ipython3",
   "version": "3.10.8"
  }
 },
 "nbformat": 4,
 "nbformat_minor": 5
}
